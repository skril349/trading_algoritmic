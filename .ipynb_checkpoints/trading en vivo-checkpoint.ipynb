{
 "cells": [
  {
   "cell_type": "code",
   "execution_count": 5,
   "id": "91dac0c9-d5a0-4bed-9ad5-8c6b363fdff7",
   "metadata": {},
   "outputs": [],
   "source": []
  },
  {
   "cell_type": "code",
   "execution_count": 19,
   "id": "a70374a6-fedd-44ef-9da8-5a40b7d8006a",
   "metadata": {},
   "outputs": [
    {
     "data": {
      "text/plain": [
       "True"
      ]
     },
     "execution_count": 19,
     "metadata": {},
     "output_type": "execute_result"
    }
   ],
   "source": [
    "from ClassMT5 import *\n",
    "import warnings\n",
    "warnings.filterwarnings(\"ignore\")\n",
    "import time\n",
    "import numpy as np\n",
    "\n",
    "import MetaTrader5 as mt5\n",
    "mt5.initialize()"
   ]
  },
  {
   "cell_type": "code",
   "execution_count": null,
   "id": "fd11426a-f34f-417d-b14f-3ec378713915",
   "metadata": {},
   "outputs": [],
   "source": [
    "\n",
    "def random():\n",
    "    \n",
    "    values = [True, False]\n",
    "    \n",
    "    buy = np.random.choice(values)\n",
    "    sell = not buy\n",
    "    \n",
    "\n",
    "    return buy, sell\n",
    "\n",
    "\n",
    "symbols_list = {\n",
    "        \"Nasdaq 100\": [\"NAS100\", 0.1],\n",
    "        \"Russel 2000\": [\"US2000\", 0.1],\n",
    "        \"Gold USD\": [\"XAUUSD\", 0.01],\n",
    "        \"S&P 500\": [\"US500\", 0.1],\n",
    "        \"US dollar vs Canadian dollar\": [\"USDCAD\", 0.01],\n",
    "        \"Euro vs US dollar\": [\"EURUSD\", 0.01]\n",
    "}\n",
    "\n",
    "current_account_info = mt5.account_info()\n",
    "print(\"------------------------------------------------------------------\")\n",
    "print(\"Date: \", datetime.now().strftime(\"%Y-%m-%d %H:%M:%S\"))\n",
    "print(f\"Balance: {current_account_info.balance} USD, \\t\"\n",
    "        f\"Equity: {current_account_info.equity} USD, \\t\"\n",
    "        f\"Profit: {current_account_info.profit} USD\")\n",
    "print(\"------------------------------------------------------------------\")\n",
    "\n",
    "\n",
    "start = datetime.now().strftime(\"%H:%M:%S\") #\"23:59:59\"\n",
    "\n",
    "while True:\n",
    "\n",
    "    # Verificación para lanzar el algoritmo\n",
    "    if datetime.now().weekday() not in (5,6): # Para hacer trading solamente de Lunes a Viernes\n",
    "        is_time = datetime.now().strftime(\"%H:%M:%S\") == start \n",
    "    else:\n",
    "        is_time = False\n",
    "\n",
    "    \n",
    "    # Lanzamos el algoritmo\n",
    "    if is_time:\n",
    "\n",
    "        # Podemos cerrar todas las posiciones abiertas\n",
    "        if mt5.positions_total() > 0:\n",
    "            MT5.close_all_night()\n",
    "            \n",
    "        # Abrimos el trading\n",
    "        for asset in symbols_list.keys():\n",
    "\n",
    "            # Initialize the symbol and lot size\n",
    "            symbol = symbols_list[asset][0]\n",
    "            lot = symbols_list[asset][1]\n",
    "        \n",
    "            # Check if the symbol is available\n",
    "            symbol_info = mt5.symbol_info(symbol)\n",
    "            if symbol_info is None:\n",
    "                print(f\"Symbol {symbol} is not available.\")\n",
    "                continue\n",
    "        \n",
    "            # Ensure the symbol is selected\n",
    "            if not mt5.symbol_select(symbol, True):\n",
    "                print(f\"Failed to select symbol {symbol}\")\n",
    "                continue\n",
    "        \n",
    "            # Create the buy/sell signal\n",
    "            buy, sell = random()\n",
    "        \n",
    "            # Execute the algorithm\n",
    "            MT5.run(symbol, buy, sell, lot)\n"
   ]
  },
  {
   "cell_type": "code",
   "execution_count": null,
   "id": "ca33caf7-a668-440f-a316-d2dc2f096712",
   "metadata": {},
   "outputs": [],
   "source": []
  },
  {
   "cell_type": "code",
   "execution_count": null,
   "id": "76ec53cf-f140-482f-b591-6df275e61fca",
   "metadata": {},
   "outputs": [],
   "source": []
  },
  {
   "cell_type": "code",
   "execution_count": null,
   "id": "1777b850-0a98-4d92-8f83-af57a99acb7b",
   "metadata": {},
   "outputs": [],
   "source": []
  },
  {
   "cell_type": "code",
   "execution_count": null,
   "id": "2d3e9b62-d6c4-41d3-92a1-d79f439e992b",
   "metadata": {},
   "outputs": [],
   "source": []
  },
  {
   "cell_type": "code",
   "execution_count": null,
   "id": "5f22028c-8685-42b9-bcfb-21b300a05f8d",
   "metadata": {},
   "outputs": [],
   "source": []
  }
 ],
 "metadata": {
  "kernelspec": {
   "display_name": "Python 3 (ipykernel)",
   "language": "python",
   "name": "python3"
  },
  "language_info": {
   "codemirror_mode": {
    "name": "ipython",
    "version": 3
   },
   "file_extension": ".py",
   "mimetype": "text/x-python",
   "name": "python",
   "nbconvert_exporter": "python",
   "pygments_lexer": "ipython3",
   "version": "3.11.7"
  }
 },
 "nbformat": 4,
 "nbformat_minor": 5
}
